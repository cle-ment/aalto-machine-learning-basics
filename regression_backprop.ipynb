{
 "cells": [
  {
   "cell_type": "code",
   "execution_count": 1,
   "metadata": {
    "collapsed": true
   },
   "outputs": [],
   "source": [
    "# c.IPKernelApp.no_stderr = False"
   ]
  },
  {
   "cell_type": "code",
   "execution_count": 2,
   "metadata": {
    "collapsed": false
   },
   "outputs": [
    {
     "name": "stderr",
     "output_type": "stream",
     "text": [
      "WARNING: New definition \n",
      "    .==(Images.AbstractImageDirect{Bool, N<:Any}, AbstractArray{Bool, N<:Any}) at /Users/cwestrup/.julia/v0.4/Images/src/algorithms.jl:135\n",
      "is ambiguous with: \n",
      "    .==(AbstractArray{Bool, N<:Any}, Union{DataArrays.PooledDataArray{Bool, R<:Integer, N<:Any}, DataArrays.DataArray{Bool, N<:Any}}) at /Users/cwestrup/.julia/v0.4/DataArrays/src/broadcast.jl:330.\n",
      "To fix, define \n",
      "    .==(Images.AbstractImageDirect{Bool, N<:Any}, Union{DataArrays.PooledDataArray{Bool, R<:Integer, N<:Any}, DataArrays.DataArray{Bool, N<:Any}})\n",
      "before the new definition.\n",
      "WARNING: New definition \n",
      "    .==(Images.AbstractImageDirect, AbstractArray) at /Users/cwestrup/.julia/v0.4/Images/src/algorithms.jl:136\n",
      "is ambiguous with: \n",
      "    .==(AbstractArray{Bool, N<:Any}, Union{DataArrays.PooledDataArray{Bool, R<:Integer, N<:Any}, DataArrays.DataArray{Bool, N<:Any}}) at /Users/cwestrup/.julia/v0.4/DataArrays/src/broadcast.jl:330.\n",
      "To fix, define \n",
      "    .==(Images.AbstractImageDirect{Bool, N<:Any}, Union{DataArrays.PooledDataArray{Bool, R<:Integer, N<:Any}, DataArrays.DataArray{Bool, N<:Any}})\n",
      "before the new definition.\n",
      "WARNING: New definition \n",
      "    .==(Images.AbstractImageDirect, AbstractArray) at /Users/cwestrup/.julia/v0.4/Images/src/algorithms.jl:136\n",
      "is ambiguous with: \n",
      "    .==(AbstractArray, Union{DataArrays.PooledDataArray, DataArrays.DataArray}) at /Users/cwestrup/.julia/v0.4/DataArrays/src/broadcast.jl:285.\n",
      "To fix, define \n",
      "    .==(Images.AbstractImageDirect, Union{DataArrays.PooledDataArray, DataArrays.DataArray})\n",
      "before the new definition.\n",
      "WARNING: New definition \n",
      "    ./(Images.AbstractImageDirect, AbstractArray) at /Users/cwestrup/.julia/v0.4/Images/src/algorithms.jl:55\n",
      "is ambiguous with: \n",
      "    ./(AbstractArray, Union{DataArrays.PooledDataArray, DataArrays.DataArray}) at /Users/cwestrup/.julia/v0.4/DataArrays/src/broadcast.jl:285.\n",
      "To fix, define \n",
      "    ./(Images.AbstractImageDirect, Union{DataArrays.PooledDataArray, DataArrays.DataArray})\n",
      "before the new definition.\n",
      "WARNING: New definition \n",
      "    .*(Images.AbstractImageDirect, AbstractArray) at /Users/cwestrup/.julia/v0.4/Images/src/algorithms.jl:51\n",
      "is ambiguous with: \n",
      "    .*(AbstractArray, Union{DataArrays.PooledDataArray, DataArrays.DataArray}, AbstractArray...) at /Users/cwestrup/.julia/v0.4/DataArrays/src/broadcast.jl:295.\n",
      "To fix, define \n",
      "    .*(Images.AbstractImageDirect, Union{DataArrays.PooledDataArray, DataArrays.DataArray})\n",
      "before the new definition.\n",
      "WARNING: New definition \n",
      "    .*(AbstractArray, Images.AbstractImageDirect) at /Users/cwestrup/.julia/v0.4/Images/src/algorithms.jl:52\n",
      "is ambiguous with: \n",
      "    .*(Union{DataArrays.PooledDataArray, DataArrays.DataArray}, AbstractArray...) at /Users/cwestrup/.julia/v0.4/DataArrays/src/broadcast.jl:295.\n",
      "To fix, define \n",
      "    .*(Union{DataArrays.PooledDataArray, DataArrays.DataArray}, Images.AbstractImageDirect)\n",
      "before the new definition.\n",
      "WARNING: New definition \n",
      "    .-(Images.AbstractImageDirect, AbstractArray) at /Users/cwestrup/.julia/v0.4/Images/src/algorithms.jl:40\n",
      "is ambiguous with: \n",
      "    .-(AbstractArray, Union{DataArrays.PooledDataArray, DataArrays.DataArray}) at /Users/cwestrup/.julia/v0.4/DataArrays/src/broadcast.jl:285.\n",
      "To fix, define \n",
      "    .-(Images.AbstractImageDirect, Union{DataArrays.PooledDataArray, DataArrays.DataArray})\n",
      "before the new definition.\n",
      "WARNING: New definition \n",
      "    -(Images.AbstractImageDirect, AbstractArray) at /Users/cwestrup/.julia/v0.4/Images/src/algorithms.jl:35\n",
      "is ambiguous with: \n",
      "    -(AbstractArray, DataArrays.DataArray) at /Users/cwestrup/.julia/v0.4/DataArrays/src/operators.jl:326.\n",
      "To fix, define \n",
      "    -(Images.AbstractImageDirect, DataArrays.DataArray)\n",
      "before the new definition.\n",
      "WARNING: New definition \n",
      "    -(Images.AbstractImageDirect, AbstractArray) at /Users/cwestrup/.julia/v0.4/Images/src/algorithms.jl:35\n",
      "is ambiguous with: \n",
      "    -(AbstractArray, DataArrays.AbstractDataArray) at /Users/cwestrup/.julia/v0.4/DataArrays/src/operators.jl:349.\n",
      "To fix, define \n",
      "    -(Images.AbstractImageDirect, DataArrays.AbstractDataArray)\n",
      "before the new definition.\n",
      "WARNING: New definition \n",
      "    -(AbstractArray, Images.AbstractImageDirect) at /Users/cwestrup/.julia/v0.4/Images/src/algorithms.jl:37\n",
      "is ambiguous with: \n",
      "    -(DataArrays.DataArray, AbstractArray) at /Users/cwestrup/.julia/v0.4/DataArrays/src/operators.jl:326.\n",
      "To fix, define \n",
      "    -(DataArrays.DataArray, Images.AbstractImageDirect)\n",
      "before the new definition.\n",
      "WARNING: New definition \n",
      "    -(AbstractArray, Images.AbstractImageDirect) at /Users/cwestrup/.julia/v0.4/Images/src/algorithms.jl:37\n",
      "is ambiguous with: \n",
      "    -(DataArrays.AbstractDataArray, AbstractArray) at /Users/cwestrup/.julia/v0.4/DataArrays/src/operators.jl:349.\n",
      "To fix, define \n",
      "    -(DataArrays.AbstractDataArray, Images.AbstractImageDirect)\n",
      "before the new definition.\n",
      "WARNING: New definition \n",
      "    .<(Images.AbstractImageDirect{Bool, N<:Any}, AbstractArray{Bool, N<:Any}) at /Users/cwestrup/.julia/v0.4/Images/src/algorithms.jl:131\n",
      "is ambiguous with: \n",
      "    .<(AbstractArray{Bool, N<:Any}, Union{DataArrays.PooledDataArray{Bool, R<:Integer, N<:Any}, DataArrays.DataArray{Bool, N<:Any}}) at /Users/cwestrup/.julia/v0.4/DataArrays/src/broadcast.jl:330.\n",
      "To fix, define \n",
      "    .<(Images.AbstractImageDirect{Bool, N<:Any}, Union{DataArrays.PooledDataArray{Bool, R<:Integer, N<:Any}, DataArrays.DataArray{Bool, N<:Any}})\n",
      "before the new definition.\n",
      "WARNING: New definition \n",
      "    .<(Images.AbstractImageDirect, AbstractArray) at /Users/cwestrup/.julia/v0.4/Images/src/algorithms.jl:132\n",
      "is ambiguous with: \n",
      "    .<(AbstractArray{Bool, N<:Any}, Union{DataArrays.PooledDataArray{Bool, R<:Integer, N<:Any}, DataArrays.DataArray{Bool, N<:Any}}) at /Users/cwestrup/.julia/v0.4/DataArrays/src/broadcast.jl:330.\n",
      "To fix, define \n",
      "    .<(Images.AbstractImageDirect{Bool, N<:Any}, Union{DataArrays.PooledDataArray{Bool, R<:Integer, N<:Any}, DataArrays.DataArray{Bool, N<:Any}})\n",
      "before the new definition.\n",
      "WARNING: New definition \n",
      "    .<(Images.AbstractImageDirect, AbstractArray) at /Users/cwestrup/.julia/v0.4/Images/src/algorithms.jl:132\n",
      "is ambiguous with: \n",
      "    .<(AbstractArray, Union{DataArrays.PooledDataArray, DataArrays.DataArray}) at /Users/cwestrup/.julia/v0.4/DataArrays/src/broadcast.jl:285.\n",
      "To fix, define \n",
      "    .<(Images.AbstractImageDirect, Union{DataArrays.PooledDataArray, DataArrays.DataArray})\n",
      "before the new definition.\n",
      "WARNING: New definition \n",
      "    +(AbstractArray, Images.AbstractImageDirect) at /Users/cwestrup/.julia/v0.4/Images/src/algorithms.jl:20\n",
      "is ambiguous with: \n",
      "    +(DataArrays.DataArray, AbstractArray) at /Users/cwestrup/.julia/v0.4/DataArrays/src/operators.jl:326.\n",
      "To fix, define \n",
      "    +(DataArrays.DataArray, Images.AbstractImageDirect)\n",
      "before the new definition.\n",
      "WARNING: New definition \n",
      "    +(AbstractArray, Images.AbstractImageDirect) at /Users/cwestrup/.julia/v0.4/Images/src/algorithms.jl:20\n",
      "is ambiguous with: \n",
      "    +(DataArrays.AbstractDataArray, AbstractArray) at /Users/cwestrup/.julia/v0.4/DataArrays/src/operators.jl:349.\n",
      "To fix, define \n",
      "    +(DataArrays.AbstractDataArray, Images.AbstractImageDirect)\n",
      "before the new definition.\n",
      "WARNING: New definition \n",
      "    .+(Images.AbstractImageDirect, AbstractArray) at /Users/cwestrup/.julia/v0.4/Images/src/algorithms.jl:22\n",
      "is ambiguous with: \n",
      "    .+(AbstractArray, Union{DataArrays.PooledDataArray, DataArrays.DataArray}, AbstractArray...) at /Users/cwestrup/.julia/v0.4/DataArrays/src/broadcast.jl:297.\n",
      "To fix, define \n",
      "    .+(Images.AbstractImageDirect, Union{DataArrays.PooledDataArray, DataArrays.DataArray})\n",
      "before the new definition.\n",
      "WARNING: New definition \n",
      "    .>(Images.AbstractImageDirect, AbstractArray) at /Users/cwestrup/.julia/v0.4/Images/src/algorithms.jl:133\n",
      "is ambiguous with: \n",
      "    .>(AbstractArray{Bool, N<:Any}, Union{DataArrays.PooledDataArray{Bool, R<:Integer, N<:Any}, DataArrays.DataArray{Bool, N<:Any}}) at /Users/cwestrup/.julia/v0.4/DataArrays/src/broadcast.jl:330.\n",
      "To fix, define \n",
      "    .>(Images.AbstractImageDirect{Bool, N<:Any}, Union{DataArrays.PooledDataArray{Bool, R<:Integer, N<:Any}, DataArrays.DataArray{Bool, N<:Any}})\n",
      "before the new definition.\n",
      "WARNING: New definition \n",
      "    .>(Images.AbstractImageDirect, AbstractArray) at /Users/cwestrup/.julia/v0.4/Images/src/algorithms.jl:133\n",
      "is ambiguous with: \n",
      "    .>(AbstractArray, Union{DataArrays.PooledDataArray, DataArrays.DataArray}) at /Users/cwestrup/.julia/v0.4/DataArrays/src/broadcast.jl:285.\n",
      "To fix, define \n",
      "    .>(Images.AbstractImageDirect, Union{DataArrays.PooledDataArray, DataArrays.DataArray})\n",
      "before the new definition.\n",
      "WARNING: Base.FloatingPoint is deprecated, use AbstractFloat instead.\n",
      "  likely near /Users/cwestrup/.julia/v0.4/MultivariateStats/src/common.jl:25\n",
      "WARNING: Base.FloatingPoint is deprecated, use AbstractFloat instead.\n",
      "  likely near /Users/cwestrup/.julia/v0.4/MultivariateStats/src/common.jl:101\n",
      "WARNING: Base.FloatingPoint is deprecated, use AbstractFloat instead.\n",
      "  likely near /Users/cwestrup/.julia/v0.4/MultivariateStats/src/lreg.jl:22\n",
      "WARNING: Base.FloatingPoint is deprecated, use AbstractFloat instead.\n",
      "  likely near /Users/cwestrup/.julia/v0.4/MultivariateStats/src/lreg.jl:22\n",
      "WARNING: Base.FloatingPoint is deprecated, use AbstractFloat instead.\n",
      "  likely near /Users/cwestrup/.julia/v0.4/MultivariateStats/src/lreg.jl:22\n",
      "WARNING: Base.FloatingPoint is deprecated, use AbstractFloat instead.\n",
      "  likely near /Users/cwestrup/.julia/v0.4/MultivariateStats/src/lreg.jl:38\n",
      "WARNING: Base.FloatingPoint is deprecated, use AbstractFloat instead.\n",
      "  likely near /Users/cwestrup/.julia/v0.4/MultivariateStats/src/lreg.jl:38\n",
      "WARNING: Base.FloatingPoint is deprecated, use AbstractFloat instead.\n",
      "  likely near /Users/cwestrup/.julia/v0.4/MultivariateStats/src/lreg.jl:38\n",
      "WARNING: Base.FloatingPoint is deprecated, use AbstractFloat instead.\n",
      "  likely near /Users/cwestrup/.julia/v0.4/MultivariateStats/src/lreg.jl:45\n",
      "WARNING: Base.FloatingPoint is deprecated, use AbstractFloat instead.\n",
      "  likely near /Users/cwestrup/.julia/v0.4/MultivariateStats/src/lreg.jl:45\n",
      "WARNING: Base.FloatingPoint is deprecated, use AbstractFloat instead.\n",
      "  likely near /Users/cwestrup/.julia/v0.4/MultivariateStats/src/lreg.jl:45\n",
      "WARNING: Base.FloatingPoint is deprecated, use AbstractFloat instead.\n",
      "  likely near /Users/cwestrup/.julia/v0.4/MultivariateStats/src/lreg.jl:52\n",
      "WARNING: Base.FloatingPoint is deprecated, use AbstractFloat instead.\n",
      "  likely near /Users/cwestrup/.julia/v0.4/MultivariateStats/src/lreg.jl:52\n",
      "WARNING: Base.FloatingPoint is deprecated, use AbstractFloat instead.\n",
      "  likely near /Users/cwestrup/.julia/v0.4/MultivariateStats/src/lreg.jl:52\n",
      "WARNING: Base.FloatingPoint is deprecated, use AbstractFloat instead.\n",
      "  likely near /Users/cwestrup/.julia/v0.4/MultivariateStats/src/lreg.jl:61\n",
      "WARNING: Union(args...) is deprecated, use Union{args...} instead.\n",
      " in depwarn at deprecated.jl:73\n",
      " in call at deprecated.jl:50\n",
      " in include at /Applications/Julia-0.4.2.app/Contents/Resources/julia/lib/julia/sys.dylib\n",
      " in include_from_node1 at /Applications/Julia-0.4.2.app/Contents/Resources/julia/lib/julia/sys.dylib\n",
      " in include at /Applications/Julia-0.4.2.app/Contents/Resources/julia/lib/julia/sys.dylib\n",
      " in include_from_node1 at /Applications/Julia-0.4.2.app/Contents/Resources/julia/lib/julia/sys.dylib\n",
      " in require at /Applications/Julia-0.4.2.app/Contents/Resources/julia/lib/julia/sys.dylib\n",
      " in include_string at loading.jl:266\n",
      " in execute_request_0x535c5df2 at /Users/cwestrup/.julia/v0.4/IJulia/src/execute_request.jl:177\n",
      " in eventloop at /Users/cwestrup/.julia/v0.4/IJulia/src/IJulia.jl:141\n",
      " in anonymous at task.jl:447\n",
      "while loading /Users/cwestrup/.julia/v0.4/MultivariateStats/src/lreg.jl, in expression starting on line 61\n",
      "WARNING: Base.FloatingPoint is deprecated, use AbstractFloat instead.\n",
      "  likely near /Users/cwestrup/.julia/v0.4/MultivariateStats/src/whiten.jl:7\n",
      "WARNING: Base.FloatingPoint is deprecated, use AbstractFloat instead.\n",
      "  likely near /Users/cwestrup/.julia/v0.4/MultivariateStats/src/whiten.jl:16\n",
      "WARNING: Base.FloatingPoint is deprecated, use AbstractFloat instead.\n",
      "  likely near /Users/cwestrup/.julia/v0.4/MultivariateStats/src/whiten.jl:17\n",
      "WARNING: Base.FloatingPoint is deprecated, use AbstractFloat instead.\n",
      "  likely near /Users/cwestrup/.julia/v0.4/MultivariateStats/src/whiten.jl:19\n",
      "WARNING: Base.FloatingPoint is deprecated, use AbstractFloat instead.\n",
      "  likely near /Users/cwestrup/.julia/v0.4/MultivariateStats/src/whiten.jl:22\n",
      "WARNING: Base.FloatingPoint is deprecated, use AbstractFloat instead.\n",
      "  likely near /Users/cwestrup/.julia/v0.4/MultivariateStats/src/whiten.jl:28\n",
      "WARNING: Base.FloatingPoint is deprecated, use AbstractFloat instead.\n",
      "  likely near /Users/cwestrup/.julia/v0.4/MultivariateStats/src/whiten.jl:28\n",
      "WARNING: Base.FloatingPoint is deprecated, use AbstractFloat instead.\n",
      "  likely near /Users/cwestrup/.julia/v0.4/MultivariateStats/src/whiten.jl:28\n",
      "WARNING: Base.FloatingPoint is deprecated, use AbstractFloat instead.\n",
      "  likely near /Users/cwestrup/.julia/v0.4/MultivariateStats/src/whiten.jl:33\n",
      "WARNING: Base.FloatingPoint is deprecated, use AbstractFloat instead.\n",
      "  likely near /Users/cwestrup/.julia/v0.4/MultivariateStats/src/whiten.jl:49\n",
      "WARNING: Base.FloatingPoint is deprecated, use AbstractFloat instead.\n",
      "  likely near /Users/cwestrup/.julia/v0.4/MultivariateStats/src/whiten.jl:49\n",
      "WARNING: Base.FloatingPoint is deprecated, use AbstractFloat instead.\n",
      "  likely near /Users/cwestrup/.julia/v0.4/MultivariateStats/src/whiten.jl:49\n",
      "WARNING: Base.FloatingPoint is deprecated, use AbstractFloat instead.\n",
      "  likely near /Users/cwestrup/.julia/v0.4/MultivariateStats/src/whiten.jl:61\n",
      "WARNING: Base.FloatingPoint is deprecated, use AbstractFloat instead.\n",
      "  likely near /Users/cwestrup/.julia/v0.4/MultivariateStats/src/whiten.jl:74\n",
      "WARNING: Base.FloatingPoint is deprecated, use AbstractFloat instead.\n",
      "  likely near /Users/cwestrup/.julia/v0.4/MultivariateStats/src/pca.jl:5\n",
      "WARNING: Base.FloatingPoint is deprecated, use AbstractFloat instead.\n",
      "  likely near /Users/cwestrup/.julia/v0.4/MultivariateStats/src/pca.jl:5\n",
      "WARNING: Base.FloatingPoint is deprecated, use AbstractFloat instead.\n",
      "  likely near /Users/cwestrup/.julia/v0.4/MultivariateStats/src/pca.jl:5\n",
      "WARNING: Base.FloatingPoint is deprecated, use AbstractFloat instead.\n",
      "  likely near /Users/cwestrup/.julia/v0.4/MultivariateStats/src/pca.jl:15\n",
      "WARNING: Base.FloatingPoint is deprecated, use AbstractFloat instead.\n",
      "  likely near /Users/cwestrup/.julia/v0.4/MultivariateStats/src/pca.jl:46\n",
      "WARNING: Base.FloatingPoint is deprecated, use AbstractFloat instead.\n",
      "  likely near /Users/cwestrup/.julia/v0.4/MultivariateStats/src/pca.jl:47\n",
      "WARNING: Base.FloatingPoint is deprecated, use AbstractFloat instead.\n",
      "  likely near /Users/cwestrup/.julia/v0.4/MultivariateStats/src/pca.jl:77\n",
      "WARNING: Base.FloatingPoint is deprecated, use AbstractFloat instead.\n",
      "  likely near /Users/cwestrup/.julia/v0.4/MultivariateStats/src/pca.jl:85\n",
      "WARNING: Base.FloatingPoint is deprecated, use AbstractFloat instead.\n",
      "  likely near /Users/cwestrup/.julia/v0.4/MultivariateStats/src/pca.jl:99\n",
      "WARNING: Base.FloatingPoint is deprecated, use AbstractFloat instead.\n",
      "  likely near /Users/cwestrup/.julia/v0.4/MultivariateStats/src/pca.jl:99\n",
      "WARNING: Base.FloatingPoint is deprecated, use AbstractFloat instead.\n",
      "  likely near /Users/cwestrup/.julia/v0.4/MultivariateStats/src/pca.jl:99\n",
      "WARNING: Base.FloatingPoint is deprecated, use AbstractFloat instead.\n",
      "  likely near /Users/cwestrup/.julia/v0.4/MultivariateStats/src/pca.jl:113\n",
      "WARNING: Base.FloatingPoint is deprecated, use AbstractFloat instead.\n",
      "  likely near /Users/cwestrup/.julia/v0.4/MultivariateStats/src/pca.jl:113\n",
      "WARNING: Base.FloatingPoint is deprecated, use AbstractFloat instead.\n",
      "  likely near /Users/cwestrup/.julia/v0.4/MultivariateStats/src/pca.jl:113\n",
      "WARNING: Base.FloatingPoint is deprecated, use AbstractFloat instead.\n",
      "  likely near /Users/cwestrup/.julia/v0.4/MultivariateStats/src/pca.jl:133\n",
      "WARNING: Base.FloatingPoint is deprecated, use AbstractFloat instead.\n",
      "  likely near /Users/cwestrup/.julia/v0.4/MultivariateStats/src/pca.jl:133\n",
      "WARNING: Base.FloatingPoint is deprecated, use AbstractFloat instead.\n",
      "  likely near /Users/cwestrup/.julia/v0.4/MultivariateStats/src/pca.jl:133\n",
      "WARNING: Base.FloatingPoint is deprecated, use AbstractFloat instead.\n",
      "  likely near /Users/cwestrup/.julia/v0.4/MultivariateStats/src/lda.jl:7\n",
      "WARNING: Base.FloatingPoint is deprecated, use AbstractFloat instead.\n",
      "  likely near /Users/cwestrup/.julia/v0.4/MultivariateStats/src/lda.jl:7\n",
      "WARNING: Base.FloatingPoint is deprecated, use AbstractFloat instead.\n",
      "  likely near /Users/cwestrup/.julia/v0.4/MultivariateStats/src/lda.jl:7\n",
      "WARNING: Base.FloatingPoint is deprecated, use AbstractFloat instead.\n",
      "  likely near /Users/cwestrup/.julia/v0.4/MultivariateStats/src/lda.jl:31\n",
      "WARNING: Base.FloatingPoint is deprecated, use AbstractFloat instead.\n",
      "  likely near /Users/cwestrup/.julia/v0.4/MultivariateStats/src/lda.jl:42\n",
      "WARNING: Base.FloatingPoint is deprecated, use AbstractFloat instead.\n",
      "  likely near /Users/cwestrup/.julia/v0.4/MultivariateStats/src/lda.jl:49\n",
      "WARNING: Base.FloatingPoint is deprecated, use AbstractFloat instead.\n",
      "  likely near /Users/cwestrup/.julia/v0.4/MultivariateStats/src/lda.jl:62\n",
      "WARNING: Base.FloatingPoint is deprecated, use AbstractFloat instead.\n",
      "  likely near /Users/cwestrup/.julia/v0.4/MultivariateStats/src/lda.jl:62\n",
      "WARNING: Base.FloatingPoint is deprecated, use AbstractFloat instead.\n",
      "  likely near /Users/cwestrup/.julia/v0.4/MultivariateStats/src/lda.jl:62\n",
      "WARNING: Base.FloatingPoint is deprecated, use AbstractFloat instead.\n",
      "  likely near /Users/cwestrup/.julia/v0.4/MultivariateStats/src/lda.jl:80\n",
      "WARNING: Base.FloatingPoint is deprecated, use AbstractFloat instead.\n",
      "  likely near /Users/cwestrup/.julia/v0.4/MultivariateStats/src/lda.jl:94\n",
      "WARNING: Base.FloatingPoint is deprecated, use AbstractFloat instead.\n",
      "  likely near /Users/cwestrup/.julia/v0.4/MultivariateStats/src/lda.jl:143\n",
      "WARNING: Base.FloatingPoint is deprecated, use AbstractFloat instead.\n",
      "  likely near /Users/cwestrup/.julia/v0.4/MultivariateStats/src/lda.jl:143\n",
      "WARNING: Base.FloatingPoint is deprecated, use AbstractFloat instead.\n",
      "  likely near /Users/cwestrup/.julia/v0.4/MultivariateStats/src/lda.jl:143\n",
      "WARNING: Base.FloatingPoint is deprecated, use AbstractFloat instead.\n",
      "  likely near /Users/cwestrup/.julia/v0.4/MultivariateStats/src/lda.jl:161\n",
      "WARNING: Base.FloatingPoint is deprecated, use AbstractFloat instead.\n",
      "  likely near /Users/cwestrup/.julia/v0.4/MultivariateStats/src/lda.jl:163\n",
      "WARNING: Base.FloatingPoint is deprecated, use AbstractFloat instead.\n",
      "  likely near /Users/cwestrup/.julia/v0.4/MultivariateStats/src/lda.jl:163\n",
      "WARNING: Base.FloatingPoint is deprecated, use AbstractFloat instead.\n",
      "  likely near /Users/cwestrup/.julia/v0.4/MultivariateStats/src/lda.jl:163\n",
      "WARNING: Base.FloatingPoint is deprecated, use AbstractFloat instead.\n",
      "  likely near /Users/cwestrup/.julia/v0.4/MultivariateStats/src/lda.jl:174\n",
      "WARNING: Base.FloatingPoint is deprecated, use AbstractFloat instead.\n",
      "  likely near /Users/cwestrup/.julia/v0.4/MultivariateStats/src/lda.jl:174\n",
      "WARNING: Base.FloatingPoint is deprecated, use AbstractFloat instead.\n",
      "  likely near /Users/cwestrup/.julia/v0.4/MultivariateStats/src/lda.jl:174\n",
      "WARNING: Base.FloatingPoint is deprecated, use AbstractFloat instead.\n",
      "  likely near /Users/cwestrup/.julia/v0.4/MultivariateStats/src/lda.jl:183\n",
      "WARNING: Base.FloatingPoint is deprecated, use AbstractFloat instead.\n",
      "  likely near /Users/cwestrup/.julia/v0.4/MultivariateStats/src/lda.jl:186\n",
      "WARNING: Base.FloatingPoint is deprecated, use AbstractFloat instead.\n",
      "  likely near /Users/cwestrup/.julia/v0.4/MultivariateStats/src/lda.jl:211\n"
     ]
    }
   ],
   "source": [
    "using Gadfly, DataFrames, DataArrays, Cairo, Images, ImageMagick, MultivariateStats, Colors;"
   ]
  },
  {
   "cell_type": "code",
   "execution_count": 3,
   "metadata": {
    "collapsed": false,
    "scrolled": true
   },
   "outputs": [],
   "source": [
    "set_default_plot_size(25cm, 20cm);"
   ]
  },
  {
   "cell_type": "markdown",
   "metadata": {},
   "source": [
    "# Prerequisites"
   ]
  },
  {
   "cell_type": "markdown",
   "metadata": {},
   "source": [
    "## Functions for evaluation"
   ]
  },
  {
   "cell_type": "markdown",
   "metadata": {},
   "source": [
    "We'll define a few functions here to compute the mean F1 score"
   ]
  },
  {
   "cell_type": "markdown",
   "metadata": {},
   "source": [
    "$$F1 = 2\\frac{p * r}{p + r} \\quad \\text{where } p = \\frac{tp}{tp + fp} \\text{, }\\quad r = \\frac{tp}{tp + fn}$$"
   ]
  },
  {
   "cell_type": "code",
   "execution_count": 68,
   "metadata": {
    "collapsed": false
   },
   "outputs": [],
   "source": [
    "truePositives(y_true, y_pred, label) = sum(\n",
    "    (y_pred .== label) & (y_true .== label));"
   ]
  },
  {
   "cell_type": "code",
   "execution_count": 69,
   "metadata": {
    "collapsed": false
   },
   "outputs": [],
   "source": [
    "falsePositives(y_true, y_pred, label) = sum(\n",
    "    (y_pred .== label) & !(y_true .== label));"
   ]
  },
  {
   "cell_type": "code",
   "execution_count": 70,
   "metadata": {
    "collapsed": true
   },
   "outputs": [],
   "source": [
    "falseNegatives(y_true, y_pred, label) = sum(\n",
    "    !(y_pred .== label) & (y_true .== label));"
   ]
  },
  {
   "cell_type": "code",
   "execution_count": 73,
   "metadata": {
    "collapsed": false
   },
   "outputs": [],
   "source": [
    "function precision(y_true, y_pred, label)\n",
    "    tp = truePositives(y_true, y_pred, label)\n",
    "    fp = falsePositives(y_true, y_pred, label)\n",
    "    return tp / (tp + fp)\n",
    "end;"
   ]
  },
  {
   "cell_type": "code",
   "execution_count": 72,
   "metadata": {
    "collapsed": true
   },
   "outputs": [],
   "source": [
    "function recall(y_true, y_pred, label)\n",
    "    tp = truePositives(y_true, y_pred, label)\n",
    "    fn = falseNegatives(y_true, y_pred, label)\n",
    "    return tp / (tp + fn)\n",
    "end;"
   ]
  },
  {
   "cell_type": "code",
   "execution_count": 74,
   "metadata": {
    "collapsed": false
   },
   "outputs": [],
   "source": [
    "function meanF1Score(y_true, y_pred, label)\n",
    "    classes = sort(unique([unique(y_true);unique(y_pred)]))\n",
    "    f1 = 0\n",
    "    for class in classes\n",
    "        p = precision(y_true, y_pred, label)\n",
    "        r = recall(y_true, y_pred, label)\n",
    "        f1 += 2 * ((p * r)/(p + r))        \n",
    "    end\n",
    "    return f1 / length(classes)\n",
    "end;"
   ]
  },
  {
   "cell_type": "markdown",
   "metadata": {},
   "source": [
    "Also we could use a function for the confusion matrix"
   ]
  },
  {
   "cell_type": "code",
   "execution_count": 10,
   "metadata": {
    "collapsed": false
   },
   "outputs": [],
   "source": [
    "function confusionMatrix(y_true, y_pred)\n",
    "    classes = sort(unique([unique(y_true),unique(y_pred)]))\n",
    "    confusion_matrix = zeros(Int64,length(classes),length(classes))\n",
    "    for i in 1:length(y_true)\n",
    "        # translate label into index\n",
    "        true_class = findfirst(classes,y_test[i])\n",
    "        pred_class = findfirst(classes,y_pred[i])\n",
    "        # pred class is the row, true class is the column\n",
    "        cm[pred_class,true_class] += 1\n",
    "    end\n",
    "    return confusion_matrix\n",
    "end;"
   ]
  },
  {
   "cell_type": "markdown",
   "metadata": {},
   "source": [
    "## Functions for cross-validation"
   ]
  },
  {
   "cell_type": "markdown",
   "metadata": {},
   "source": [
    "### Generating k folds by splitting the data in test and training set"
   ]
  },
  {
   "cell_type": "markdown",
   "metadata": {},
   "source": [
    "A function to generate vectors for splitting the dataset for cross validation each vector selects the datapoints for the test set."
   ]
  },
  {
   "cell_type": "code",
   "execution_count": 11,
   "metadata": {
    "collapsed": false
   },
   "outputs": [],
   "source": [
    "# data_size: data points / rows in dataset\n",
    "# folds: number of split vectors to be used for CV folds\n",
    "# test_size_ratio: percentage of dataset to be in test set\n",
    "function getCVSplits(data_size=5000, folds=5, test_size_ratio=0.25)\n",
    "    splits = []\n",
    "    for k in range(1,folds)\n",
    "        is_train = shuffle(\n",
    "            range(1, data_size) .> floor(n * test_size_ratio))\n",
    "        push!(splits, is_train)\n",
    "    end\n",
    "    return splits\n",
    "end;"
   ]
  },
  {
   "cell_type": "markdown",
   "metadata": {},
   "source": [
    "A function that splits our dataset with a boolean vector into test and training set:"
   ]
  },
  {
   "cell_type": "code",
   "execution_count": 12,
   "metadata": {
    "collapsed": false
   },
   "outputs": [],
   "source": [
    "# splitvectors: boolean vector that selects which entries are in \n",
    "#              test/training set, can be obtained using getCVSplits()\n",
    "# X: feature matrix DataFrame\n",
    "# Y: target matrix DataFrame\n",
    "function splitDataset(splitvector, X, Y)\n",
    "    X_train_df = X[splitvector,:]\n",
    "    X_test_df  = X[!splitvector,:]\n",
    "    Y_train_df = Y[splitvector, :]\n",
    "    Y_test_df  = Y[!splitvector, :]\n",
    "    return (X_train_df, X_test_df, Y_train_df, Y_test_df)\n",
    "end;"
   ]
  },
  {
   "cell_type": "markdown",
   "metadata": {},
   "source": [
    "### Generating feature matrix and target vectors from split data"
   ]
  },
  {
   "cell_type": "markdown",
   "metadata": {},
   "source": [
    "A function to get the feature matrix with added bias"
   ]
  },
  {
   "cell_type": "code",
   "execution_count": 13,
   "metadata": {
    "collapsed": false
   },
   "outputs": [],
   "source": [
    "getFeatureMatrix(Xdf) = hcat(ones(nrow(Xdf), 1), Matrix(Xdf));"
   ]
  },
  {
   "cell_type": "markdown",
   "metadata": {},
   "source": [
    "A funtion to get the target vector for predicting the type of wine (classification task)"
   ]
  },
  {
   "cell_type": "code",
   "execution_count": 14,
   "metadata": {
    "collapsed": true
   },
   "outputs": [],
   "source": [
    "# assign class labels -1 for Red and 1 for White\n",
    "function getTargetTypeVector(Ydf)\n",
    "    Y = ones(nrow(Ydf))\n",
    "    is_white = collect(Matrix(Ydf[:,2:2]) .== \"White\")\n",
    "    Y[!is_white,:] = -1.0;\n",
    "    return Y\n",
    "end;"
   ]
  },
  {
   "cell_type": "markdown",
   "metadata": {},
   "source": [
    "A funtion to get the target vector for predicting the quality of wine (regression task)"
   ]
  },
  {
   "cell_type": "code",
   "execution_count": 15,
   "metadata": {
    "collapsed": false
   },
   "outputs": [],
   "source": [
    "getTargetQualityVector(Ydf) = Matrix(Ydf[:,1:1]);"
   ]
  },
  {
   "cell_type": "markdown",
   "metadata": {},
   "source": [
    "## Data preparation"
   ]
  },
  {
   "cell_type": "markdown",
   "metadata": {},
   "source": [
    "We can define the feature variables we'll use:"
   ]
  },
  {
   "cell_type": "code",
   "execution_count": 16,
   "metadata": {
    "collapsed": false
   },
   "outputs": [
    {
     "data": {
      "text/plain": [
       "11"
      ]
     },
     "execution_count": 16,
     "metadata": {},
     "output_type": "execute_result"
    }
   ],
   "source": [
    "variables = [:fixedAcidity, :volatileAcidity, :citricAcid, \n",
    "    :residualSugar, :chlorides, :freeSulfurDioxide, \n",
    "    :totalSulfurDioxide, :density, :pH, :sulphates, :alcohol];\n",
    "length(variables)"
   ]
  },
  {
   "cell_type": "markdown",
   "metadata": {},
   "source": [
    "Read the data into DataFrames:"
   ]
  },
  {
   "cell_type": "code",
   "execution_count": 17,
   "metadata": {
    "collapsed": false
   },
   "outputs": [],
   "source": [
    "df_submission = \n",
    "readtable(\"data/challenge_public_test_classification_regression_2015.csv\");"
   ]
  },
  {
   "cell_type": "code",
   "execution_count": 18,
   "metadata": {
    "collapsed": false,
    "scrolled": true
   },
   "outputs": [],
   "source": [
    "df_train = readtable(\"data/training_classification_regression_2015.csv\");"
   ]
  },
  {
   "cell_type": "markdown",
   "metadata": {},
   "source": [
    "We normalize the features by subtracting from each column its mean and deviding by its standard deviation"
   ]
  },
  {
   "cell_type": "code",
   "execution_count": 19,
   "metadata": {
    "collapsed": false
   },
   "outputs": [],
   "source": [
    "df_train_norm = deepcopy(df_train)\n",
    "for variable in variables\n",
    "    column = df_train_norm[:, variable]\n",
    "    df_train_norm[:, variable] = (column .- mean(column)) ./ std(column)\n",
    "end\n",
    "df_train_norm;"
   ]
  },
  {
   "cell_type": "code",
   "execution_count": 20,
   "metadata": {
    "collapsed": false
   },
   "outputs": [
    {
     "data": {
      "text/html": [
       "<table class=\"data-frame\"><tr><th></th><th>fixedAcidity</th><th>volatileAcidity</th><th>citricAcid</th><th>residualSugar</th><th>chlorides</th><th>freeSulfurDioxide</th><th>totalSulfurDioxide</th><th>density</th><th>pH</th><th>sulphates</th><th>alcohol</th><th>quality</th><th>_type</th></tr><tr><th>1</th><td>-0.19581148606307708</td><td>-0.3386149588803073</td><td>0.5430063966089778</td><td>1.6899239900642382</td><td>-0.12119819492048489</td><td>1.9275660835074595</td><td>2.2540949093649036</td><td>1.0116150901531629</td><td>-0.3105996734319634</td><td>0.38998483249693666</td><td>-0.8034568236260613</td><td>4</td><td>White</td></tr></table>"
      ],
      "text/plain": [
       "1x13 DataFrames.DataFrame\n",
       "| Row | fixedAcidity | volatileAcidity | citricAcid | residualSugar |\n",
       "|-----|--------------|-----------------|------------|---------------|\n",
       "| 1   | -0.195811    | -0.338615       | 0.543006   | 1.68992       |\n",
       "\n",
       "| Row | chlorides | freeSulfurDioxide | totalSulfurDioxide | density | pH      |\n",
       "|-----|-----------|-------------------|--------------------|---------|---------|\n",
       "| 1   | -0.121198 | 1.92757           | 2.25409            | 1.01162 | -0.3106 |\n",
       "\n",
       "| Row | sulphates | alcohol   | quality | _type   |\n",
       "|-----|-----------|-----------|---------|---------|\n",
       "| 1   | 0.389985  | -0.803457 | 4       | \"White\" |"
      ]
     },
     "execution_count": 20,
     "metadata": {},
     "output_type": "execute_result"
    }
   ],
   "source": [
    "head(df_train_norm, 1)"
   ]
  },
  {
   "cell_type": "markdown",
   "metadata": {},
   "source": [
    "Stack up the features for easier visualization"
   ]
  },
  {
   "cell_type": "code",
   "execution_count": 21,
   "metadata": {
    "collapsed": false
   },
   "outputs": [],
   "source": [
    "df_train_norm_stacked = stack(df_train_norm, variables);"
   ]
  },
  {
   "cell_type": "code",
   "execution_count": 22,
   "metadata": {
    "collapsed": false
   },
   "outputs": [
    {
     "data": {
      "text/html": [
       "<table class=\"data-frame\"><tr><th></th><th>variable</th><th>value</th><th>quality</th><th>_type</th></tr><tr><th>1</th><td>fixedAcidity</td><td>-0.19581148606307708</td><td>4</td><td>White</td></tr></table>"
      ],
      "text/plain": [
       "1x4 DataFrames.DataFrame\n",
       "| Row | variable     | value     | quality | _type   |\n",
       "|-----|--------------|-----------|---------|---------|\n",
       "| 1   | fixedAcidity | -0.195811 | 4       | \"White\" |"
      ]
     },
     "execution_count": 22,
     "metadata": {},
     "output_type": "execute_result"
    }
   ],
   "source": [
    "head(df_train_norm_stacked, 1)"
   ]
  },
  {
   "cell_type": "markdown",
   "metadata": {},
   "source": [
    "\n",
    "Preparing the data for test / training:"
   ]
  },
  {
   "cell_type": "code",
   "execution_count": 23,
   "metadata": {
    "collapsed": false,
    "scrolled": true
   },
   "outputs": [],
   "source": [
    "# X = feature DataFrame, Y = target DataFrame\n",
    "X_df = df_train_norm[:,1:11]\n",
    "Y_df = df_train_norm[:,12:13];"
   ]
  },
  {
   "cell_type": "markdown",
   "metadata": {},
   "source": [
    "## Generating the test and training set"
   ]
  },
  {
   "cell_type": "markdown",
   "metadata": {},
   "source": [
    "Let's try it out and split the dataset with 0.75 training and 0.25 test data:"
   ]
  },
  {
   "cell_type": "code",
   "execution_count": 24,
   "metadata": {
    "collapsed": false
   },
   "outputs": [
    {
     "name": "stdout",
     "output_type": "stream",
     "text": [
      "Total number of datapoints: 5000\n",
      "Training set size: 3750\n",
      "Test set size: 1250\n"
     ]
    }
   ],
   "source": [
    "# Split for training and test set\n",
    "n = nrow(X_df)\n",
    "splits = getCVSplits(n, 1, 0.25)\n",
    "\n",
    "# Create dataframes with training and test sets:\n",
    "(X_train_df, X_test_df, Y_train_df, Y_test_df) = splitDataset(\n",
    "    splits[1], X_df, Y_df)\n",
    "\n",
    "println(\"Total number of datapoints: \",n)\n",
    "println(\"Training set size: \", nrow(X_train_df))\n",
    "println(\"Test set size: \", nrow(X_test_df))"
   ]
  },
  {
   "cell_type": "markdown",
   "metadata": {},
   "source": [
    "Now we can generate the feature matrix and target vectors for the classification and regression tasks:"
   ]
  },
  {
   "cell_type": "code",
   "execution_count": 25,
   "metadata": {
    "collapsed": false
   },
   "outputs": [],
   "source": [
    "X_train = getFeatureMatrix(X_train_df);\n",
    "X_test = getFeatureMatrix(X_test_df);\n",
    "\n",
    "y_type_train = getTargetTypeVector(Y_train_df);\n",
    "y_type_test = getTargetTypeVector(Y_test_df);\n",
    "y_quality_train = getTargetQualityVector(Y_train_df);\n",
    "y_quality_test = getTargetQualityVector(Y_test_df);"
   ]
  },
  {
   "cell_type": "markdown",
   "metadata": {},
   "source": [
    "# Visualizations"
   ]
  },
  {
   "cell_type": "markdown",
   "metadata": {},
   "source": [
    "## Classification"
   ]
  },
  {
   "cell_type": "markdown",
   "metadata": {},
   "source": [
    "A placeholder plot we'll use to fill up grids"
   ]
  },
  {
   "cell_type": "code",
   "execution_count": null,
   "metadata": {
    "collapsed": true
   },
   "outputs": [],
   "source": [
    "placeholder = plot(x=[0], y=[0], Guide.xlabel(\"'placeholder'\"));"
   ]
  },
  {
   "cell_type": "markdown",
   "metadata": {},
   "source": [
    "Plotting all classes for all variables"
   ]
  },
  {
   "cell_type": "code",
   "execution_count": null,
   "metadata": {
    "collapsed": false,
    "scrolled": false
   },
   "outputs": [],
   "source": [
    "filename = \"hist_variables_type\"\n",
    "p = plot(df_train_norm_stacked,\n",
    "xgroup=\"variable\", x=\"_type\", y=\"value\", Geom.subplot_grid(Geom.point));\n",
    "draw(PDF(string(\"plots/\", filename, \".pdf\"), 25cm, 20cm), p)\n",
    "draw(PNG(string(\"plots/\", filename, \".png\"), 25cm, 20cm), p)\n",
    "load(string(\"plots/\", filename, \".png\"))"
   ]
  },
  {
   "cell_type": "markdown",
   "metadata": {},
   "source": [
    "Now each seperately "
   ]
  },
  {
   "cell_type": "code",
   "execution_count": null,
   "metadata": {
    "collapsed": false
   },
   "outputs": [],
   "source": [
    "plots = Gadfly.Plot[]\n",
    "\n",
    "for variable in variables\n",
    "    feature = df_train_norm_stacked[\n",
    "        (df_train_norm_stacked[:variable].==variable), :] \n",
    "    push!(plots, plot(feature, x=:_type, y=:value, Geom.point, \n",
    "        Guide.xlabel(string(variable), orientation=:horizontal)))\n",
    "end\n",
    "push!(plots, placeholder);"
   ]
  },
  {
   "cell_type": "code",
   "execution_count": null,
   "metadata": {
    "collapsed": false
   },
   "outputs": [],
   "source": [
    "filename = \"hist_variables_type_grid\"\n",
    "\n",
    "plotstack = vstack(\n",
    "    hstack(plots[1], plots[2], plots[3], plots[4]),\n",
    "    hstack(plots[5], plots[6], plots[7], plots[8]),\n",
    "    hstack(plots[9], plots[10], plots[11], plots[12]))\n",
    "\n",
    "draw(PDF(string(\"plots/\", filename, \".pdf\"), 25cm, 20cm), plotstack)\n",
    "draw(PNG(string(\"plots/\", filename, \".png\"), 25cm, 20cm), plotstack)\n",
    "load(string(\"plots/\", filename, \".png\"))"
   ]
  },
  {
   "cell_type": "markdown",
   "metadata": {},
   "source": [
    "The features look somewhat seperable, let's look at the density"
   ]
  },
  {
   "cell_type": "code",
   "execution_count": null,
   "metadata": {
    "collapsed": false
   },
   "outputs": [],
   "source": [
    "plots = Gadfly.Plot[]\n",
    "\n",
    "for variable in variables\n",
    "    feature = df_train_norm_stacked[\n",
    "        (df_train_norm_stacked[:variable].==variable), :] \n",
    "    push!(plots, plot(feature, color=:_type, x=:value, Geom.density,\n",
    "    Guide.xlabel(string(variable), orientation=:horizontal), \n",
    "    Coord.cartesian(xmin=-5, xmax=5)))\n",
    "end\n",
    "push!(plots, placeholder);"
   ]
  },
  {
   "cell_type": "code",
   "execution_count": null,
   "metadata": {
    "collapsed": false
   },
   "outputs": [],
   "source": [
    "filename = \"density_type_grid\"\n",
    "plotstack = vstack(\n",
    "    hstack(plots[1], plots[2]),\n",
    "    hstack(plots[3], plots[4]),\n",
    "    hstack(plots[5], plots[6]),\n",
    "    hstack(plots[7], plots[8]),\n",
    "    hstack(plots[9], plots[10]),\n",
    "    hstack(plots[11], plots[12]))\n",
    "draw(PDF(string(\"plots/\", filename, \".pdf\"), 25cm, 28cm), plotstack)\n",
    "draw(PNG(string(\"plots/\", filename, \".png\"), 25cm, 28cm), plotstack)\n",
    "load(string(\"plots/\", filename, \".png\"))"
   ]
  },
  {
   "cell_type": "markdown",
   "metadata": {},
   "source": [
    "Seems like there is some pattern here at least..."
   ]
  },
  {
   "cell_type": "code",
   "execution_count": null,
   "metadata": {
    "collapsed": false
   },
   "outputs": [],
   "source": [
    "plots = Gadfly.Plot[]\n",
    "\n",
    "for variable in variables\n",
    "    feature = df_train_norm_stacked[\n",
    "        (df_train_norm_stacked[:variable].==variable), :] \n",
    "    \n",
    "    push!(plots, plot(feature, color=:quality, x=:value, Geom.density,\n",
    "    Guide.xlabel(string(variable), orientation=:horizontal), \n",
    "    Scale.ContinuousColorScale(\n",
    "        Scale.lab_gradient(colorant\"orange\", colorant\"blue\")),\n",
    "    Coord.cartesian(xmin=-5, xmax=5)))\n",
    "end\n",
    "push!(plots, placeholder);"
   ]
  },
  {
   "cell_type": "code",
   "execution_count": null,
   "metadata": {
    "collapsed": false
   },
   "outputs": [],
   "source": [
    "filename = \"density_quality_grid\"\n",
    "plotstack = vstack(\n",
    "    hstack(plots[1], plots[2]),\n",
    "    hstack(plots[3], plots[4]),\n",
    "    hstack(plots[5], plots[6]),\n",
    "    hstack(plots[7], plots[8]),\n",
    "    hstack(plots[9], plots[10]),\n",
    "    hstack(plots[11], plots[12]))\n",
    "draw(PDF(string(\"plots/\", filename, \".pdf\"), 25cm, 28cm), plotstack)\n",
    "draw(PNG(string(\"plots/\", filename, \".png\"), 25cm, 28cm), plotstack)\n",
    "imread(string(\"plots/\", filename, \".png\"))"
   ]
  },
  {
   "cell_type": "markdown",
   "metadata": {},
   "source": [
    "## PCA"
   ]
  },
  {
   "cell_type": "code",
   "execution_count": null,
   "metadata": {
    "collapsed": false
   },
   "outputs": [],
   "source": [
    "# train a PCA model\n",
    "X_matrix = Matrix(deepcopy(X_df))\n",
    "M = fit(PCA, X_matrix'; maxoutdim=15, method=:auto)\n",
    "pca_matrix = transform(M, X_matrix')';"
   ]
  },
  {
   "cell_type": "code",
   "execution_count": null,
   "metadata": {
    "collapsed": false
   },
   "outputs": [],
   "source": [
    "# make it a DataFrame and merge it with the labels\n",
    "df_pca = DataFrame(pca_matrix)\n",
    "df_pca_labelled = hcat(df_pca, Y_df)\n",
    "head(df_pca_labelled,1)"
   ]
  },
  {
   "cell_type": "markdown",
   "metadata": {},
   "source": [
    "Plot first 2 principal components:"
   ]
  },
  {
   "cell_type": "code",
   "execution_count": null,
   "metadata": {
    "collapsed": false
   },
   "outputs": [],
   "source": [
    "filename = \"density_pca_type_2first\"\n",
    "p1 = plot(df_pca_labelled, color=:_type, x=:x1, Geom.density)\n",
    "p2 = plot(df_pca_labelled, color=:_type, x=:x2, Geom.density)\n",
    "plotstack = hstack(p1, p2)\n",
    "\n",
    "draw(PDF(string(\"plots/\", filename, \".pdf\"), 25cm, 10cm), plotstack)\n",
    "draw(PNG(string(\"plots/\", filename, \".png\"), 25cm, 10cm), plotstack)\n",
    "load(string(\"plots/\", filename, \".png\"))"
   ]
  },
  {
   "cell_type": "markdown",
   "metadata": {},
   "source": [
    "First 2 components on a plane"
   ]
  },
  {
   "cell_type": "code",
   "execution_count": null,
   "metadata": {
    "collapsed": false
   },
   "outputs": [],
   "source": [
    "filename = \"scatter_pca_type_2first\"\n",
    "p = plot(df_pca_labelled, color=:_type, x=:x1, y=:x2, Geom.point)\n",
    "draw(PDF(string(\"plots/\", filename, \".pdf\"), 20cm, 20cm), p)\n",
    "draw(PNG(string(\"plots/\", filename, \".png\"), 20cm, 20cm), p)\n",
    "load(string(\"plots/\", filename, \".png\"))"
   ]
  },
  {
   "cell_type": "code",
   "execution_count": null,
   "metadata": {
    "collapsed": false
   },
   "outputs": [],
   "source": [
    "filename = \"scatter_pca_quality_2first\"\n",
    "p = plot(df_pca_labelled, color=:quality, x=:x1, y=:x2, Geom.point, \n",
    "    Scale.ContinuousColorScale(\n",
    "    Scale.lab_gradient(colorant\"orange\", colorant\"blue\")))\n",
    "draw(PDF(string(\"plots/\", filename, \".pdf\"), 20cm, 20cm), p)\n",
    "draw(PNG(string(\"plots/\", filename, \".png\"), 20cm, 20cm), p)\n",
    "load(string(\"plots/\", filename, \".png\"))"
   ]
  },
  {
   "cell_type": "code",
   "execution_count": null,
   "metadata": {
    "collapsed": false
   },
   "outputs": [],
   "source": [
    "plots = Gadfly.Plot[]\n",
    "\n",
    "variables = [:x1, :x2, :x3, :x4, :x5, :x6, :x7, :x8, :x9, :x10]\n",
    "df_pca_labelled_stacked = stack(df_pca_labelled, variables)\n",
    "\n",
    "for variable in variables\n",
    "    feature = df_pca_labelled_stacked[\n",
    "        (df_pca_labelled_stacked[:variable].==variable), :]     \n",
    "    push!(plots, plot(feature, color=:quality, x=:value, Geom.density,\n",
    "    Guide.xlabel(string(variable), orientation=:horizontal), \n",
    "    Scale.ContinuousColorScale(\n",
    "        Scale.lab_gradient(colorant\"orange\", colorant\"blue\")),\n",
    "    Coord.cartesian(xmin=-5, xmax=5)))\n",
    "end"
   ]
  },
  {
   "cell_type": "code",
   "execution_count": null,
   "metadata": {
    "collapsed": false
   },
   "outputs": [],
   "source": [
    "filename = \"density_pca_quality_grid\"\n",
    "plotstack = vstack(\n",
    "    hstack(plots[1], plots[2]),\n",
    "    hstack(plots[3], plots[4]),\n",
    "    hstack(plots[5], plots[6]),\n",
    "    hstack(plots[7], plots[7]),\n",
    "    hstack(plots[8], plots[9]))\n",
    "draw(PDF(string(\"plots/\", filename, \".pdf\"), 25cm, 25cm), plotstack)\n",
    "draw(PNG(string(\"plots/\", filename, \".png\"), 25cm, 25cm), plotstack)\n",
    "imread(string(\"plots/\", filename, \".png\"))"
   ]
  },
  {
   "cell_type": "code",
   "execution_count": null,
   "metadata": {
    "collapsed": false
   },
   "outputs": [],
   "source": [
    "plots = Gadfly.Plot[]\n",
    "\n",
    "variables = [:x1, :x2, :x3, :x4, :x5, :x6, :x7, :x8, :x9, :x10]\n",
    "df_pca_labelled_stacked = stack(df_pca_labelled, variables)\n",
    "\n",
    "for variable in variables\n",
    "    feature = df_pca_labelled_stacked[\n",
    "        (df_pca_labelled_stacked[:variable].==variable), :]     \n",
    "    push!(plots, plot(feature, color=:_type, x=:value, Geom.density,\n",
    "    Guide.xlabel(string(variable), orientation=:horizontal), \n",
    "    Coord.cartesian(xmin=-5, xmax=5)))\n",
    "end"
   ]
  },
  {
   "cell_type": "code",
   "execution_count": null,
   "metadata": {
    "collapsed": false
   },
   "outputs": [],
   "source": [
    "filename = \"density_pca_type_grid\"\n",
    "plotstack = vstack(\n",
    "    hstack(plots[1], plots[2]),\n",
    "    hstack(plots[3], plots[4]),\n",
    "    hstack(plots[5], plots[6]),\n",
    "    hstack(plots[7], plots[7]),\n",
    "    hstack(plots[8], plots[9]))\n",
    "draw(PDF(string(\"plots/\", filename, \".pdf\"), 25cm, 25cm), plotstack)\n",
    "draw(PNG(string(\"plots/\", filename, \".png\"), 25cm, 25cm), plotstack)\n",
    "imread(string(\"plots/\", filename, \".png\"))"
   ]
  },
  {
   "cell_type": "markdown",
   "metadata": {},
   "source": [
    "# ICA"
   ]
  },
  {
   "cell_type": "code",
   "execution_count": null,
   "metadata": {
    "collapsed": false
   },
   "outputs": [],
   "source": [
    "# train a ICA model\n",
    "X_matrix = Matrix(deepcopy(X_df))\n",
    "M = fit(ICA, X_matrix', 6)\n",
    "ica_matrix = transform(M, X_matrix')';"
   ]
  },
  {
   "cell_type": "code",
   "execution_count": null,
   "metadata": {
    "collapsed": false
   },
   "outputs": [],
   "source": [
    "df_ica = DataFrame(ica_matrix)\n",
    "labels = df_train[:,12:13]\n",
    "df_ica_labelled = hcat(df_ica, labels);"
   ]
  },
  {
   "cell_type": "code",
   "execution_count": null,
   "metadata": {
    "collapsed": false
   },
   "outputs": [],
   "source": [
    "plots = Gadfly.Plot[]\n",
    "\n",
    "variables = [:x1, :x2, :x3, :x4, :x5, :x6]\n",
    "for variable in variables\n",
    "    push!(plots, plot(df_ica_labelled, color=:_type, \n",
    "        x=variable, Geom.density,\n",
    "        Guide.xlabel(string(variable), orientation=:horizontal),\n",
    "        Coord.cartesian(xmin=-5, xmax=5)))\n",
    "end"
   ]
  },
  {
   "cell_type": "code",
   "execution_count": null,
   "metadata": {
    "collapsed": false
   },
   "outputs": [],
   "source": [
    "filename = \"density_ica_type_grid\"\n",
    "plotstack = vstack(\n",
    "    hstack(plots[1], plots[2]),\n",
    "    hstack(plots[3], plots[4]),\n",
    "    hstack(plots[5], plots[6]))\n",
    "\n",
    "draw(PDF(string(\"plots/\", filename, \".pdf\"), 25cm, 25cm), plotstack)\n",
    "draw(PNG(string(\"plots/\", filename, \".png\"), 25cm, 25cm), plotstack)\n",
    "imread(string(\"plots/\", filename, \".png\"))"
   ]
  },
  {
   "cell_type": "code",
   "execution_count": null,
   "metadata": {
    "collapsed": false
   },
   "outputs": [],
   "source": [
    "plots = Gadfly.Plot[]\n",
    "\n",
    "variables = [:x1, :x2, :x3, :x4, :x5, :x6]\n",
    "for variable in variables\n",
    "    push!(plots, plot(df_ica_labelled, color=:quality, \n",
    "        x=variable, Geom.density,\n",
    "        Guide.xlabel(string(variable), orientation=:horizontal),\n",
    "        Scale.ContinuousColorScale(\n",
    "            Scale.lab_gradient(colorant\"orange\", colorant\"blue\")),\n",
    "        Coord.cartesian(xmin=-5, xmax=5)))\n",
    "end"
   ]
  },
  {
   "cell_type": "code",
   "execution_count": null,
   "metadata": {
    "collapsed": false
   },
   "outputs": [],
   "source": [
    "filename = \"density_ica_quality_grid\"\n",
    "plotstack = vstack(\n",
    "    hstack(plots[1], plots[2]),\n",
    "    hstack(plots[3], plots[4]),\n",
    "    hstack(plots[5], plots[6]))\n",
    "\n",
    "draw(PDF(string(\"plots/\", filename, \".pdf\"), 25cm, 25cm), plotstack)\n",
    "draw(PNG(string(\"plots/\", filename, \".png\"), 25cm, 25cm), plotstack)\n",
    "imread(string(\"plots/\", filename, \".png\"))"
   ]
  },
  {
   "cell_type": "markdown",
   "metadata": {},
   "source": [
    "# Linear regression"
   ]
  },
  {
   "cell_type": "markdown",
   "metadata": {},
   "source": [
    "### Description "
   ]
  },
  {
   "cell_type": "markdown",
   "metadata": {},
   "source": [
    "(*Add reference to Bishop)"
   ]
  },
  {
   "cell_type": "markdown",
   "metadata": {},
   "source": [
    "Train the weights throught the closed-form solution using the pseudo-inverse matrix of $X$"
   ]
  },
  {
   "cell_type": "markdown",
   "metadata": {},
   "source": [
    "$w(X,Y) = (X^Y X)^{-1} X^Y = X^\\dagger Y$"
   ]
  },
  {
   "cell_type": "code",
   "execution_count": 26,
   "metadata": {
    "collapsed": false
   },
   "outputs": [],
   "source": [
    "wLinearRegression(X, Y) = pinv(X)*Y;"
   ]
  },
  {
   "cell_type": "markdown",
   "metadata": {},
   "source": [
    "We can then make predictions using these weights:"
   ]
  },
  {
   "cell_type": "markdown",
   "metadata": {
    "collapsed": true
   },
   "source": [
    "$y(X, w) = Xw $"
   ]
  },
  {
   "cell_type": "code",
   "execution_count": 27,
   "metadata": {
    "collapsed": false
   },
   "outputs": [],
   "source": [
    "yLinearRegression(X, w) = X*w;"
   ]
  },
  {
   "cell_type": "markdown",
   "metadata": {},
   "source": [
    "### Test"
   ]
  },
  {
   "cell_type": "markdown",
   "metadata": {},
   "source": [
    "Train our weights:"
   ]
  },
  {
   "cell_type": "code",
   "execution_count": 28,
   "metadata": {
    "collapsed": false
   },
   "outputs": [],
   "source": [
    "w = wLinearRegression(X_train, y_type_train);"
   ]
  },
  {
   "cell_type": "markdown",
   "metadata": {},
   "source": [
    "Make predictions:"
   ]
  },
  {
   "cell_type": "code",
   "execution_count": 29,
   "metadata": {
    "collapsed": false
   },
   "outputs": [],
   "source": [
    "y_pred = sign(yLinearRegression(X_test, w));"
   ]
  },
  {
   "cell_type": "markdown",
   "metadata": {},
   "source": [
    "F1 score:"
   ]
  },
  {
   "cell_type": "code",
   "execution_count": 77,
   "metadata": {
    "collapsed": false
   },
   "outputs": [
    {
     "data": {
      "text/plain": [
       "0.9845474613686535"
      ]
     },
     "execution_count": 77,
     "metadata": {},
     "output_type": "execute_result"
    }
   ],
   "source": [
    "meanF1Score(y_pred, y_type_test, -1.0)"
   ]
  },
  {
   "cell_type": "markdown",
   "metadata": {},
   "source": [
    "# Logistic regression"
   ]
  },
  {
   "cell_type": "markdown",
   "metadata": {},
   "source": [
    "Let's implement logistic regression from scratch to start simple:"
   ]
  },
  {
   "cell_type": "markdown",
   "metadata": {},
   "source": [
    "$g(x) =  \\sum_{i=0}^k w_i Φ_i(x)$, with $Φ_0(x) = 0$"
   ]
  },
  {
   "cell_type": "code",
   "execution_count": null,
   "metadata": {
    "collapsed": true
   },
   "outputs": [],
   "source": []
  },
  {
   "cell_type": "markdown",
   "metadata": {},
   "source": [
    "# Neural Network"
   ]
  },
  {
   "cell_type": "markdown",
   "metadata": {},
   "source": [
    "### Backpropagation:"
   ]
  },
  {
   "cell_type": "markdown",
   "metadata": {},
   "source": [
    "Number of features is the size of the training set columns, without the id, type and quality columns"
   ]
  },
  {
   "cell_type": "code",
   "execution_count": null,
   "metadata": {
    "collapsed": false
   },
   "outputs": [],
   "source": [
    "num_of_features = size(df_train,2)-3"
   ]
  },
  {
   "cell_type": "markdown",
   "metadata": {},
   "source": [
    "Specify the architechture. We'll have a fully connected MLP with 1 hidden layer."
   ]
  },
  {
   "cell_type": "code",
   "execution_count": null,
   "metadata": {
    "collapsed": false
   },
   "outputs": [],
   "source": [
    "hidden_layers = 1;\n",
    "hidden_units = 20;\n",
    "num_of_outputs = 1;"
   ]
  },
  {
   "cell_type": "markdown",
   "metadata": {},
   "source": [
    "Initialize the weight matrices randomly"
   ]
  },
  {
   "cell_type": "code",
   "execution_count": null,
   "metadata": {
    "collapsed": false
   },
   "outputs": [],
   "source": [
    "using Distributions \n",
    "θ1 = rand(Uniform(-1, 1), hidden_units + 1, num_of_features + 1);\n",
    "θ1[1, :] = 1;\n",
    "θ1"
   ]
  },
  {
   "cell_type": "code",
   "execution_count": null,
   "metadata": {
    "collapsed": false
   },
   "outputs": [],
   "source": [
    "θ2 = rand(Uniform(-1, 1), num_of_outputs, hidden_units + 1);"
   ]
  },
  {
   "cell_type": "code",
   "execution_count": null,
   "metadata": {
    "collapsed": false
   },
   "outputs": [],
   "source": [
    "size(θ1), size(θ2)"
   ]
  },
  {
   "cell_type": "code",
   "execution_count": null,
   "metadata": {
    "collapsed": false
   },
   "outputs": [],
   "source": [
    "x = rand(10)"
   ]
  },
  {
   "cell_type": "code",
   "execution_count": null,
   "metadata": {
    "collapsed": false
   },
   "outputs": [],
   "source": [
    "x = [1;x]"
   ]
  },
  {
   "cell_type": "code",
   "execution_count": null,
   "metadata": {
    "collapsed": false
   },
   "outputs": [],
   "source": [
    "tanh(θ1 * x)"
   ]
  },
  {
   "cell_type": "code",
   "execution_count": null,
   "metadata": {
    "collapsed": false
   },
   "outputs": [],
   "source": [
    "function forwardprop(x,θ)\n",
    "    tanh(θ ⋅ x)\n",
    "end"
   ]
  }
 ],
 "metadata": {
  "kernelspec": {
   "display_name": "Julia 0.4.2",
   "language": "julia",
   "name": "julia-0.4"
  },
  "language_info": {
   "file_extension": ".jl",
   "mimetype": "application/julia",
   "name": "julia",
   "version": "0.4.2"
  }
 },
 "nbformat": 4,
 "nbformat_minor": 0
}
